{
 "cells": [
  {
   "cell_type": "code",
   "execution_count": 1,
   "id": "3cb8ea48",
   "metadata": {},
   "outputs": [
    {
     "name": "stdout",
     "output_type": "stream",
     "text": [
      " * Serving Flask app \"__main__\" (lazy loading)\n",
      " * Environment: production\n",
      "\u001b[31m   WARNING: This is a development server. Do not use it in a production deployment.\u001b[0m\n",
      "\u001b[2m   Use a production WSGI server instead.\u001b[0m\n",
      " * Debug mode: on\n"
     ]
    },
    {
     "name": "stderr",
     "output_type": "stream",
     "text": [
      " * Restarting with watchdog (windowsapi)\n"
     ]
    },
    {
     "ename": "SystemExit",
     "evalue": "1",
     "output_type": "error",
     "traceback": [
      "An exception has occurred, use %tb to see the full traceback.\n",
      "\u001b[1;31mSystemExit\u001b[0m\u001b[1;31m:\u001b[0m 1\n"
     ]
    },
    {
     "name": "stderr",
     "output_type": "stream",
     "text": [
      "C:\\Users\\Kratos\\anaconda3\\lib\\site-packages\\IPython\\core\\interactiveshell.py:3465: UserWarning: To exit: use 'exit', 'quit', or Ctrl-D.\n",
      "  warn(\"To exit: use 'exit', 'quit', or Ctrl-D.\", stacklevel=1)\n"
     ]
    }
   ],
   "source": [
    "from flask import Flask, request, jsonify\n",
    "import sqlite3\n",
    "\n",
    "app = Flask(__name__)\n",
    "\n",
    "def get_db_connection():\n",
    "    conn = sqlite3.connect('students.db')\n",
    "    conn.row_factory = sqlite3.Row\n",
    "    return conn\n",
    "\n",
    "@app.route('/')\n",
    "def index():\n",
    "    return \"Welcome to the Flask API\"\n",
    "\n",
    "if __name__ == '__main__':\n",
    "    app.run(debug=True)\n"
   ]
  },
  {
   "cell_type": "code",
   "execution_count": 2,
   "id": "413fcc5a",
   "metadata": {},
   "outputs": [],
   "source": [
    "#Implementing the Create Operation"
   ]
  },
  {
   "cell_type": "code",
   "execution_count": 3,
   "id": "0a4f1aa3",
   "metadata": {},
   "outputs": [],
   "source": [
    "@app.route('/students', methods=['POST'])\n",
    "def create_student():\n",
    "    new_student = request.get_json()\n",
    "    student_id = new_student['student_id']\n",
    "    first_name = new_student['first_name']\n",
    "    last_name = new_student['last_name']\n",
    "    dob = new_student['dob']\n",
    "    amount_due = new_student['amount_due']\n",
    "\n",
    "    conn = get_db_connection()\n",
    "    c = conn.cursor()\n",
    "    c.execute(\"INSERT INTO students (student_id, first_name, last_name, dob, amount_due) VALUES (?, ?, ?, ?, ?)\",\n",
    "              (student_id, first_name, last_name, dob, amount_due))\n",
    "    conn.commit()\n",
    "    conn.close()\n",
    "    return jsonify(new_student), 201\n"
   ]
  },
  {
   "cell_type": "code",
   "execution_count": 4,
   "id": "34f8a0f7",
   "metadata": {},
   "outputs": [],
   "source": [
    "#Implementing the Read Operation"
   ]
  },
  {
   "cell_type": "code",
   "execution_count": 5,
   "id": "5a74112e",
   "metadata": {},
   "outputs": [],
   "source": [
    "@app.route('/students/<int:student_id>', methods=['GET'])\n",
    "def get_student(student_id):\n",
    "    conn = get_db_connection()\n",
    "    student = conn.execute('SELECT * FROM students WHERE student_id = ?', (student_id,)).fetchone()\n",
    "    conn.close()\n",
    "\n",
    "    if student is None:\n",
    "        return jsonify({'error': 'Student not found'}), 404\n",
    "\n",
    "    return jsonify(dict(student))\n"
   ]
  },
  {
   "cell_type": "code",
   "execution_count": 6,
   "id": "6f8345c5",
   "metadata": {},
   "outputs": [],
   "source": [
    "#Implementing the Update Operation"
   ]
  },
  {
   "cell_type": "code",
   "execution_count": 7,
   "id": "46c43651",
   "metadata": {},
   "outputs": [],
   "source": [
    "@app.route('/students/<int:student_id>', methods=['PUT'])\n",
    "def update_student(student_id):\n",
    "    updated_student = request.get_json()\n",
    "    conn = get_db_connection()\n",
    "    c = conn.cursor()\n",
    "    c.execute('UPDATE students SET first_name = ?, last_name = ?, dob = ?, amount_due = ? WHERE student_id = ?',\n",
    "              (updated_student['first_name'], updated_student['last_name'], updated_student['dob'], updated_student['amount_due'], student_id))\n",
    "    conn.commit()\n",
    "    conn.close()\n",
    "    return jsonify(updated_student)\n"
   ]
  },
  {
   "cell_type": "code",
   "execution_count": 8,
   "id": "6859b583",
   "metadata": {},
   "outputs": [],
   "source": [
    "#Implementing the Delete Operation"
   ]
  },
  {
   "cell_type": "code",
   "execution_count": 9,
   "id": "87c57ffe",
   "metadata": {},
   "outputs": [],
   "source": [
    "@app.route('/students/<int:student_id>', methods=['DELETE'])\n",
    "def delete_student(student_id):\n",
    "    conn = get_db_connection()\n",
    "    c = conn.cursor()\n",
    "    c.execute('DELETE FROM students WHERE student_id = ?', (student_id,))\n",
    "    conn.commit()\n",
    "    conn.close()\n",
    "    return '', 204\n"
   ]
  },
  {
   "cell_type": "code",
   "execution_count": 10,
   "id": "01197c9d",
   "metadata": {},
   "outputs": [],
   "source": [
    "#Displaying All Records"
   ]
  },
  {
   "cell_type": "code",
   "execution_count": 11,
   "id": "fe2c9bf4",
   "metadata": {},
   "outputs": [],
   "source": [
    "@app.route('/students', methods=['GET'])\n",
    "def get_students():\n",
    "    conn = get_db_connection()\n",
    "    students = conn.execute('SELECT * FROM students').fetchall()\n",
    "    conn.close()\n",
    "    return jsonify([dict(student) for student in students])\n"
   ]
  },
  {
   "cell_type": "code",
   "execution_count": null,
   "id": "4c947e2c",
   "metadata": {},
   "outputs": [],
   "source": []
  }
 ],
 "metadata": {
  "kernelspec": {
   "display_name": "Python 3 (ipykernel)",
   "language": "python",
   "name": "python3"
  },
  "language_info": {
   "codemirror_mode": {
    "name": "ipython",
    "version": 3
   },
   "file_extension": ".py",
   "mimetype": "text/x-python",
   "name": "python",
   "nbconvert_exporter": "python",
   "pygments_lexer": "ipython3",
   "version": "3.9.13"
  }
 },
 "nbformat": 4,
 "nbformat_minor": 5
}
